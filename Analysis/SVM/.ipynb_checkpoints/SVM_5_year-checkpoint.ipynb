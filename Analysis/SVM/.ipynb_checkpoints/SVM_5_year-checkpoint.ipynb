{
 "cells": [
  {
   "cell_type": "code",
   "execution_count": 9,
   "metadata": {},
   "outputs": [
    {
     "name": "stdout",
     "output_type": "stream",
     "text": [
      "Requirement already satisfied: torch in /rds/general/applications/jupyterhub/2019-04-29/miniconda/lib/python3.6/site-packages (1.1.0)\n",
      "Requirement already satisfied: numpy in /rds/general/user/wq21/home/.local/lib/python3.6/site-packages (from torch) (1.19.5)\n"
     ]
    }
   ],
   "source": [
    "#!pip install --user seaborn\n",
    "#!pip install --user shap\n",
    "#!pip install --user statsmodels\n",
    "#!pip install --user numpy --upgrade\n",
    "#!pip install --user mlxtend\n",
    "#!pip install --user gensim\n",
    "#!pip install tensorflow\n",
    "#!pip install torch"
   ]
  },
  {
   "cell_type": "markdown",
   "metadata": {},
   "source": [
    "## Import packages"
   ]
  },
  {
   "cell_type": "code",
   "execution_count": 2,
   "metadata": {},
   "outputs": [],
   "source": [
    "### loading packages\n",
    "\n",
    "import pandas as pd\n",
    "import numpy as np\n",
    "import matplotlib.pyplot as plt\n",
    "import seaborn as sns\n",
    "import sklearn\n",
    "\n",
    "from sklearn import tree\n",
    "from sklearn.tree import DecisionTreeClassifier\n",
    "from sklearn.model_selection import train_test_split\n",
    "from sklearn.metrics import confusion_matrix\n",
    "from sklearn.tree import export_graphviz \n",
    "\n",
    "from sklearn.ensemble import RandomForestClassifier\n",
    "\n",
    "from sklearn.experimental import enable_iterative_imputer\n",
    "from sklearn.impute import IterativeImputer\n",
    "\n",
    "from sklearn.model_selection import train_test_split\n",
    "from sklearn.model_selection import GridSearchCV\n",
    "\n",
    "from sklearn.metrics import accuracy_score\n",
    "from sklearn.metrics import f1_score\n",
    "from sklearn.metrics import precision_score\n",
    "from sklearn.metrics import recall_score\n",
    "from sklearn.metrics import make_scorer\n",
    "from sklearn.metrics import plot_confusion_matrix\n",
    "from sklearn import metrics\n",
    "\n",
    "from sklearn.pipeline import make_pipeline\n",
    "from sklearn.preprocessing import StandardScaler\n",
    "from sklearn import svm\n",
    "from mlxtend.plotting import plot_decision_regions\n",
    "\n",
    "import math\n",
    "\n",
    "from sklearn.metrics import mean_squared_error\n",
    "from sklearn.metrics import mean_absolute_error\n",
    "import statsmodels.api as sm"
   ]
  },
  {
   "cell_type": "markdown",
   "metadata": {},
   "source": [
    "## Load data"
   ]
  },
  {
   "cell_type": "code",
   "execution_count": 4,
   "metadata": {},
   "outputs": [],
   "source": [
    "train = pd.read_csv('/rds/general/user/wq21/projects/hda_21-22/live/TDS/Group_2/TDS-Group-Project/Analysis/SVM/train_5_year.csv',\n",
    "                 low_memory=False)\n",
    "test = pd.read_csv('/rds/general/user/wq21/projects/hda_21-22/live/TDS/Group_2/TDS-Group-Project/Analysis/SVM/test_5_year.csv',\n",
    "                 low_memory=False)"
   ]
  },
  {
   "cell_type": "code",
   "execution_count": 5,
   "metadata": {},
   "outputs": [
    {
     "data": {
      "text/plain": [
       "(4571, 235)"
      ]
     },
     "execution_count": 5,
     "metadata": {},
     "output_type": "execute_result"
    }
   ],
   "source": [
    "train.shape"
   ]
  },
  {
   "cell_type": "code",
   "execution_count": 6,
   "metadata": {},
   "outputs": [],
   "source": [
    "def get_results(truth, prediction, df, idx):\n",
    "    \n",
    "    y_test2 = truth.map({'healthy':0, 'case':1})\n",
    "    y_pred2 = pd.Series(prediction).map({'healthy':0, 'case':1})\n",
    "\n",
    "\n",
    "    acc = accuracy_score(y_test2, y_pred2)\n",
    "    f1 = f1_score(y_test2, y_pred2)\n",
    "    precision = precision_score(y_test2, y_pred2)\n",
    "    recall = recall_score(y_test2, y_pred2)\n",
    "\n",
    "    df.loc[idx,:] = [acc, f1, precision, recall]\n",
    "\n",
    "    return df\n",
    "\n",
    "results = pd.DataFrame(columns = ['accuracy','f1','precision','recall'])"
   ]
  },
  {
   "cell_type": "code",
   "execution_count": 7,
   "metadata": {},
   "outputs": [
    {
     "data": {
      "text/plain": [
       "count        4571\n",
       "unique          2\n",
       "top       healthy\n",
       "freq         3033\n",
       "Name: cc_status, dtype: object"
      ]
     },
     "execution_count": 7,
     "metadata": {},
     "output_type": "execute_result"
    }
   ],
   "source": [
    "y_train = train['cc_status'] \n",
    "y_train = y_train.astype('category')\n",
    "y_train = y_train.map({0: 'healthy', 1: 'case'})\n",
    "y_test = test['cc_status'] \n",
    "y_test = y_test.astype('category')\n",
    "y_test = y_test.map({0: 'healthy', 1: 'case'})\n",
    "y_train.describe()"
   ]
  },
  {
   "cell_type": "code",
   "execution_count": 8,
   "metadata": {},
   "outputs": [
    {
     "data": {
      "text/plain": [
       "Series([], dtype: int64)"
      ]
     },
     "execution_count": 8,
     "metadata": {},
     "output_type": "execute_result"
    }
   ],
   "source": [
    "X_train = train.iloc[:,2:]\n",
    "X_test = test.iloc[:,2:]\n",
    "X_train.isnull().sum()[X_train.isnull().sum()>0]"
   ]
  },
  {
   "cell_type": "code",
   "execution_count": 10,
   "metadata": {},
   "outputs": [
    {
     "data": {
      "text/plain": [
       "Index(['Model_NSAID', 'Model_Asprin', 'Model_Lower_Ca', 'Model_Lower_fibre',\n",
       "       'Model_Greater_processed_meat', 'Model_Greater_red_meat',\n",
       "       'Model_Low_veg', 'Model_Low_fruit', 'Model_Low_folate',\n",
       "       'Model_Diabetes',\n",
       "       ...\n",
       "       'comorbidity_R1_Other_symptoms', 'comorbidity_R3_Other_symptoms',\n",
       "       'comorbidity_R5_Other_symptoms', 'comorbidity_R6_Other_symptoms',\n",
       "       'comorbidity_R10_Other_symptoms', 'comorbidity_R31_Other_symptoms',\n",
       "       'comorbidity_R69_Other_symptoms', 'comorbidity_T8_Injuries',\n",
       "       'comorbidity_T81_Injuries', 'comorbidity_Y8_External_causes'],\n",
       "      dtype='object', length=233)"
      ]
     },
     "execution_count": 10,
     "metadata": {},
     "output_type": "execute_result"
    }
   ],
   "source": [
    "X_train.columns"
   ]
  },
  {
   "cell_type": "markdown",
   "metadata": {},
   "source": [
    "## Apply linear SVM "
   ]
  },
  {
   "cell_type": "code",
   "execution_count": 11,
   "metadata": {},
   "outputs": [
    {
     "data": {
      "text/plain": [
       "(1371, 23)"
      ]
     },
     "execution_count": 11,
     "metadata": {},
     "output_type": "execute_result"
    }
   ],
   "source": [
    "# test in a smaller set\n",
    "X_train_small = X_train.iloc[:,0:23]\n",
    "X_test_small = X_test.iloc[:,0:23]\n",
    "X_test_small.shape"
   ]
  },
  {
   "cell_type": "code",
   "execution_count": 12,
   "metadata": {},
   "outputs": [
    {
     "data": {
      "image/png": "[encoded data removed]",
      "text/plain": [
       "<Figure size 432x288 with 2 Axes>"
      ]
     },
     "metadata": {
      "needs_background": "light"
     },
     "output_type": "display_data"
    },
    {
     "name": "stdout",
     "output_type": "stream",
     "text": [
      "                  accuracy        f1 precision    recall\n",
      "SVM_small_linear  0.517141  0.368321  0.328231  0.419565\n"
     ]
    }
   ],
   "source": [
    "## Using small data\n",
    "\n",
    "svm_class = svm.SVC(kernel = 'linear', class_weight= {'healthy': 1, 'case': 2},\n",
    "                    gamma='auto', random_state = 8)\n",
    "svm_class.fit(X_train_small, y_train)\n",
    "\n",
    "y_pred = svm_class.predict(X_test_small)\n",
    "\n",
    "labels = ['case', 'healthy']\n",
    "cm = confusion_matrix(y_test, y_pred, labels=labels)\n",
    "cm = confusion_matrix(y_test, y_pred)\n",
    "ax= plt.subplot()\n",
    "sns.heatmap(cm, annot=True, ax = ax)\n",
    "\n",
    "# labels, title and ticks\n",
    "ax.set_xlabel('Predicted labels')\n",
    "ax.set_ylabel('True labels')\n",
    "ax.set_title('Confusion Matrix')\n",
    "ax.xaxis.set_ticklabels(['case', 'healthy']); ax.yaxis.set_ticklabels(['case', 'healthy'])\n",
    "plt.savefig(\"Outputs_5year/SVM_linear_small_cm.pdf\")\n",
    "\n",
    "plt.show()\n",
    "\n",
    "results = get_results(y_test, y_pred, results, 'SVM_small_linear')\n",
    "\n",
    "print(results)"
   ]
  },
  {
   "cell_type": "code",
   "execution_count": 13,
   "metadata": {},
   "outputs": [
    {
     "data": {
      "image/png": "[encoded data removed]",
      "text/plain": [
       "<Figure size 432x288 with 2 Axes>"
      ]
     },
     "metadata": {
      "needs_background": "light"
     },
     "output_type": "display_data"
    },
    {
     "name": "stdout",
     "output_type": "stream",
     "text": [
      "                  accuracy        f1 precision    recall\n",
      "SVM_small_linear  0.517141  0.368321  0.328231  0.419565\n",
      "SVM_linear        0.552152  0.428305  0.374593       0.5\n"
     ]
    }
   ],
   "source": [
    "## Using all data\n",
    "\n",
    "svm_class = svm.SVC(kernel = 'linear', class_weight= {'healthy': 1, 'case': 2},\n",
    "                    gamma='auto', random_state = 8,  probability = True)\n",
    "svm_class.fit(X_train, y_train)\n",
    "\n",
    "y_pred = svm_class.predict(X_test)\n",
    "\n",
    "labels = ['case', 'healthy']\n",
    "cm = confusion_matrix(y_test, y_pred, labels=labels)\n",
    "cm = confusion_matrix(y_test, y_pred)\n",
    "ax= plt.subplot()\n",
    "sns.heatmap(cm, annot=True, ax = ax)\n",
    "\n",
    "# labels, title and ticks\n",
    "ax.set_xlabel('Predicted labels')\n",
    "ax.set_ylabel('True labels')\n",
    "ax.set_title('Confusion Matrix')\n",
    "ax.xaxis.set_ticklabels(['case', 'healthy']); ax.yaxis.set_ticklabels(['case', 'healthy'])\n",
    "\n",
    "plt.savefig(\"Outputs_5year/SVM_linear_cm.pdf\")\n",
    "plt.show()\n",
    "\n",
    "results = get_results(y_test, y_pred, results, 'SVM_linear')\n",
    "\n",
    "print(results)"
   ]
  },
  {
   "cell_type": "code",
   "execution_count": 14,
   "metadata": {},
   "outputs": [
    {
     "name": "stdout",
     "output_type": "stream",
     "text": [
      "[[ 1.         0.         0.        ... -0.1492737 -0.1270877 -0.1511533]\n",
      " [ 0.         0.         0.        ... -0.1492737 -0.1270877 -0.1511533]\n",
      " [ 0.         0.         0.        ... -0.1492737 -0.1270877 -0.1511533]\n",
      " ...\n",
      " [ 0.         1.         0.        ... -0.1492737 -0.1270877 -0.1511533]\n",
      " [ 0.         1.         0.        ... -0.1492737 -0.1270877 -0.1511533]\n",
      " [ 0.         0.         0.        ... -0.1492737 -0.1270877 -0.1511533]]\n",
      "[1322 2604]\n"
     ]
    }
   ],
   "source": [
    "# get support vectors\n",
    "print(svm_class.support_vectors_)\n",
    "# get number of support vectors for each class\n",
    "print(svm_class.n_support_)"
   ]
  },
  {
   "cell_type": "markdown",
   "metadata": {},
   "source": [
    "### Feature Importance plot by coefficient"
   ]
  },
  {
   "cell_type": "code",
   "execution_count": 15,
   "metadata": {},
   "outputs": [
    {
     "data": {
      "image/png": "[encoded data removed]",
      "text/plain": [
       "<Figure size 720x720 with 1 Axes>"
      ]
     },
     "metadata": {
      "needs_background": "light"
     },
     "output_type": "display_data"
    }
   ],
   "source": [
    "from matplotlib import pyplot as plt\n",
    "from sklearn import svm\n",
    "\n",
    "def f_importances(coef, names, top=-1):\n",
    "    imp = coef\n",
    "    imp, names = zip(*sorted(list(zip(imp, names))))\n",
    "\n",
    "    # Show all features\n",
    "    if top == -1:\n",
    "        top = len(names)\n",
    "    \n",
    "    def pltcolor(lst):\n",
    "        cols=[]\n",
    "        for l in lst:\n",
    "            if l > 0:\n",
    "                cols.append('indianred')\n",
    "            elif l < 0:\n",
    "                cols.append('royalblue')\n",
    "        return cols\n",
    "    # Create the colors list using the function above\n",
    "    cols = pltcolor(coef)\n",
    "\n",
    "    plt.figure(figsize=(10, 10))\n",
    "    plt.barh(range(top), imp[::-1][0:top][::-1], align='center',color = cols)\n",
    "    plt.yticks(range(top), names[::-1][0:top][::-1])\n",
    "    \n",
    "    plt.savefig(\"Outputs_5year/SVM_linear_variable _importance.pdf\",bbox_inches = 'tight')\n",
    "    plt.show()\n",
    "\n",
    "\n",
    "features_names = X_train.columns\n",
    "f_importances(svm_class.coef_[0], features_names,top=20)\n",
    "#f_importances(svm_class.coef_[0], features_names,top=20)\n",
    "\n",
    "\n",
    "# Positive -red -- the larger the variable, the higher chance case -- risk fcator\n",
    "# negative -blue -- the lower the variable, the higher the chance of case -- protective factor\n",
    "# https://stats.stackexchange.com/questions/550946/linear-svm-weights-interpretation-in-binary-classification-which-sign-relates-t"
   ]
  },
  {
   "cell_type": "code",
   "execution_count": 23,
   "metadata": {},
   "outputs": [
    {
     "data": {
      "image/png": "[encoded data removed]",
      "text/plain": [
       "<Figure size 432x288 with 1 Axes>"
      ]
     },
     "metadata": {
      "needs_background": "light"
     },
     "output_type": "display_data"
    }
   ],
   "source": [
    "from sklearn.metrics import plot_roc_curve\n",
    "y_test2 = y_test.map({'healthy':0, 'case':1})\n",
    "y_pred = svm_class.predict_proba(X_test)[:,1]\n",
    "\n",
    "scv = plot_roc_curve(svm_class,X_test,y_test)\n",
    "plt.savefig(\"Outputs_5year/SVM_linear_ROC.pdf\")\n",
    "plt.show()\n",
    "\n",
    "# # Compute ROC curve and area the curve\n",
    "# fpr, tpr, thresholds = roc_curve(y_test, probas_[:, 1])\n",
    "# roc_auc = auc(fpr, tpr)\n",
    "# print \"Area under the ROC curve : %f\" % roc_auc\n",
    "\n",
    "# # Plot ROC curve\n",
    "# pl.clf()\n",
    "# pl.plot(fpr, tpr, label='ROC curve (area = %0.2f)' % roc_auc)\n",
    "# pl.plot([0, 1], [0, 1], 'k--')\n",
    "# pl.xlim([0.0, 1.0])\n",
    "# pl.ylim([0.0, 1.0])\n",
    "# pl.xlabel('False Positive Rate')\n",
    "# pl.ylabel('True Positive Rate')\n",
    "# pl.title('Receiver operating characteristic example')\n",
    "# pl.legend(loc=\"lower right\")\n",
    "# pl.show()"
   ]
  },
  {
   "cell_type": "code",
   "execution_count": null,
   "metadata": {},
   "outputs": [],
   "source": [
    "# Example of Fit Support Vector Machine Classifier\n",
    "X = X_train[['Model_smoking_pack_year', 'age_recr']]\n",
    "y = np.array(y_train.map({'healthy':0, 'case':1}))\n",
    "\n",
    "clf = svm.SVC(decision_function_shape='ovo')\n",
    "clf.fit(X.values, y) \n",
    "\n",
    "# Plot Decision Region using mlxtend's awesome plotting function\n",
    "plot_decision_regions(X=X.values, \n",
    "                      y=y,\n",
    "                      clf=clf,\n",
    "                      legend=2)\n",
    "\n",
    "# Update plot object with X/Y axis labels and Figure Title\n",
    "plt.xlabel(X.columns[0], size=14)\n",
    "plt.ylabel(X.columns[1], size=14)\n",
    "plt.title('SVM Decision Region Boundary', size=16)\n",
    "\n",
    "plt.show()"
   ]
  },
  {
   "cell_type": "markdown",
   "metadata": {},
   "source": [
    "## Soft margin, non-linear kernel & Tune model"
   ]
  },
  {
   "cell_type": "markdown",
   "metadata": {},
   "source": [
    "#### Linear Model with Soft Margin <br/>\n",
    "Cross-validation 5-fold"
   ]
  },
  {
   "cell_type": "code",
   "execution_count": null,
   "metadata": {},
   "outputs": [],
   "source": [
    "y_train2 = y_train.map({'healthy':0, 'case':1})\n",
    "\n",
    "num_features = np.size(X_train, axis=1)\n",
    "param_grid =  {'C': [0.01, 0.1, 1,5,10,100], \n",
    "   'kernel': ['linear']}\n",
    "## NOTE: We are includeing C=1 and gamma=1/(num_features * X_train_scaled.var())\n",
    "\n",
    "optimal_params = GridSearchCV(\n",
    "    svm.SVC(class_weight= {0: 1, 1: 2}), \n",
    "    param_grid,\n",
    "    cv=5,\n",
    "    scoring='recall', \n",
    "    verbose=0,\n",
    "    n_jobs = 7 \n",
    "    )\n",
    "\n",
    "optimal_params.fit(X_train, y_train2)\n",
    "print(optimal_params.best_params_)"
   ]
  },
  {
   "cell_type": "code",
   "execution_count": null,
   "metadata": {},
   "outputs": [],
   "source": [
    "clf_svm_linear = svm.SVC(kernel = 'linear', class_weight= {'healthy': 1, 'case': 2},\n",
    "                         C=0.01,\n",
    "                         gamma='auto', random_state = 8,  probability = True)\n",
    "clf_svm_linear.fit(X_train, y_train)\n",
    "y_pred = clf_svm_linear.predict(X_test)\n",
    "\n",
    "labels = ['case', 'healthy']\n",
    "cm = confusion_matrix(y_test, y_pred, labels=labels)\n",
    "cm = confusion_matrix(y_test, y_pred)\n",
    "ax= plt.subplot()\n",
    "sns.heatmap(cm, annot=True, ax = ax)\n",
    "\n",
    "# labels, title and ticks\n",
    "ax.set_xlabel('Predicted labels')\n",
    "ax.set_ylabel('True labels')\n",
    "ax.set_title('Confusion Matrix')\n",
    "ax.xaxis.set_ticklabels(['case', 'healthy']); ax.yaxis.set_ticklabels(['case', 'healthy'])\n",
    "\n",
    "plt.savefig(\"Outputs_5year/SVM_linear_tune_cm.pdf\")\n",
    "plt.show()\n",
    "\n",
    "results = get_results(y_test, y_pred, results, 'SVM_linear_tune')"
   ]
  },
  {
   "cell_type": "code",
   "execution_count": null,
   "metadata": {},
   "outputs": [],
   "source": [
    "from matplotlib import pyplot as plt\n",
    "from sklearn import svm\n",
    "\n",
    "def f_importances(coef, names, top=-1):\n",
    "    imp = coef\n",
    "    imp, names = zip(*sorted(list(zip(imp, names))))\n",
    "\n",
    "    # Show all features\n",
    "    if top == -1:\n",
    "        top = len(names)\n",
    "    \n",
    "    def pltcolor(lst):\n",
    "        cols=[]\n",
    "        for l in lst:\n",
    "            if l > 0:\n",
    "                cols.append('indianred')\n",
    "            elif l < 0:\n",
    "                cols.append('royalblue')\n",
    "        return cols\n",
    "    # Create the colors list using the function above\n",
    "    cols = pltcolor(coef)\n",
    "\n",
    "    plt.figure(figsize=(10,10))\n",
    "    plt.barh(range(top), imp[::-1][0:top][::-1], align='center',color = cols)\n",
    "    plt.yticks(range(top), names[::-1][0:top][::-1])\n",
    "    plt.savefig(\"Outputs_5year/SVM_linear_tune_variable_importance.pdf\",bbox_inches = 'tight')\n",
    "    plt.show()\n",
    "\n",
    "\n",
    "features_names = X_train.columns\n",
    "f_importances(clf_svm_linear.coef_[0], features_names,top=20)"
   ]
  },
  {
   "cell_type": "code",
   "execution_count": null,
   "metadata": {},
   "outputs": [],
   "source": [
    "from sklearn.metrics import plot_roc_curve\n",
    "y_test2 = y_test.map({'healthy':0, 'case':1})\n",
    "y_pred = clf_svm_linear.predict_proba(X_test)[:,1]\n",
    "\n",
    "plot_roc_curve(clf_svm_linear,X_test,y_test)\n",
    "plt.show()\n",
    "plt.savefig(\"Outputs_5year/SVM_linear_tune_ROC.pdf\")"
   ]
  },
  {
   "cell_type": "markdown",
   "metadata": {},
   "source": [
    "#### Radial Kernal with Soft Margin <br/>\n",
    "Cross-validation 5-fold"
   ]
  },
  {
   "cell_type": "code",
   "execution_count": 51,
   "metadata": {},
   "outputs": [
    {
     "name": "stdout",
     "output_type": "stream",
     "text": [
      "{'C': 5, 'gamma': 0.001, 'kernel': 'rbf'}\n"
     ]
    }
   ],
   "source": [
    "y_train2 = y_train.map({'healthy':0, 'case':1})\n",
    "\n",
    "num_features = np.size(X_train, axis=1)\n",
    "param_grid = {'C': [0.01, 0.1, 1,5,10,100], \n",
    "   'gamma': [1/num_features, 3,2,1, 0.1, 0.01, 0.001], \n",
    "   'kernel': ['rbf']}\n",
    "## NOTE: We are includeing C=1 and gamma=1/(num_features * X_train_scaled.var())\n",
    "\n",
    "optimal_params = GridSearchCV(\n",
    "    svm.SVC(class_weight= {0: 1, 1: 2}), \n",
    "    param_grid,\n",
    "    cv=5,\n",
    "    scoring='recall', \n",
    "    verbose=0,\n",
    "    n_jobs = 7 # NOTE: If you want to see what Grid Search is doing, set verbose=2\n",
    "    )\n",
    "\n",
    "optimal_params.fit(X_train, y_train2)\n",
    "print(optimal_params.best_params_)"
   ]
  },
  {
   "cell_type": "code",
   "execution_count": null,
   "metadata": {},
   "outputs": [],
   "source": [
    "clf_svm_radial = svm.SVC(kernel='rbf',class_weight= {'healthy': 1, 'case': 2},\n",
    "                         C=1, gamma=0.001,\n",
    "                         probability=True)\n",
    "\n",
    "clf_svm_radial.fit(X_train, y_train)\n",
    "y_pred = clf_svm_radial.predict(X_test)\n",
    "\n",
    "labels = ['case', 'healthy']\n",
    "cm = confusion_matrix(y_test, y_pred, labels=labels)\n",
    "cm = confusion_matrix(y_test, y_pred)\n",
    "ax= plt.subplot()\n",
    "sns.heatmap(cm, annot=True, ax = ax)\n",
    "\n",
    "# labels, title and ticks\n",
    "ax.set_xlabel('Predicted labels')\n",
    "ax.set_ylabel('True labels')\n",
    "ax.set_title('Confusion Matrix')\n",
    "ax.xaxis.set_ticklabels(['case', 'healthy']); ax.yaxis.set_ticklabels(['case', 'healthy'])\n",
    "\n",
    "plt.savefig(\"Outputs_5year/SVM_rbf_tune_cm.pdf\")\n",
    "plt.show()\n",
    "\n",
    "results = get_results(y_test, y_pred, results, 'SVM_rbf_tune')"
   ]
  },
  {
   "cell_type": "code",
   "execution_count": null,
   "metadata": {},
   "outputs": [],
   "source": [
    "from sklearn.metrics import plot_roc_curve\n",
    "y_test2 = y_test.map({'healthy':0, 'case':1})\n",
    "y_pred = clf_svm_radial.predict_proba(X_test)[:,1]\n",
    "\n",
    "plot_roc_curve(clf_svm_radial,X_test,y_test)\n",
    "plt.savefig(\"Outputs_5year/SVM_rbf_tune_ROC.pdf\")\n",
    "plt.show()"
   ]
  },
  {
   "cell_type": "markdown",
   "metadata": {},
   "source": [
    "#### Sigmoid Kernel with Soft Margin <br/>\n",
    "Cross-validation 5-fold"
   ]
  },
  {
   "cell_type": "code",
   "execution_count": 53,
   "metadata": {},
   "outputs": [
    {
     "name": "stdout",
     "output_type": "stream",
     "text": [
      "{'coef0': 0.2, 'gamma': 0.2, 'kernel': 'sigmoid'}\n"
     ]
    }
   ],
   "source": [
    "y_train2 = y_train.map({'healthy':0, 'case':1})\n",
    "\n",
    "num_features = np.size(X_train, axis=1)\n",
    "param_grid = {'coef0': [0.1,0.2,0.3], \n",
    "   'gamma': list(np.arange(0.1, 1.0, 0.1)), \n",
    "   'kernel': ['sigmoid']}\n",
    "\n",
    "optimal_params = GridSearchCV(\n",
    "    svm.SVC(class_weight= {0: 1, 1: 2}), \n",
    "    param_grid,\n",
    "    cv=5,\n",
    "    scoring='recall', \n",
    "    verbose=0,\n",
    "    n_jobs = 7 # NOTE: If you want to see what Grid Search is doing, set verbose=2\n",
    "    )\n",
    "\n",
    "optimal_params.fit(X_train, y_train2)\n",
    "print(optimal_params.best_params_)"
   ]
  },
  {
   "cell_type": "code",
   "execution_count": null,
   "metadata": {},
   "outputs": [],
   "source": [
    "clf_svm_sigmoid = svm.SVC(kernel='sigmoid',class_weight= {'healthy': 1, 'case': 2},\n",
    "                          random_state=1, \n",
    "                          coef0 = 0.5, gamma = 0.01,\n",
    "                          probability=True)\n",
    "clf_svm_sigmoid.fit(X_train, y_train)\n",
    "\n",
    "y_pred = clf_svm_sigmoid.predict(X_test)\n",
    "\n",
    "labels = ['case', 'healthy']\n",
    "cm = confusion_matrix(y_test, y_pred, labels=labels)\n",
    "cm = confusion_matrix(y_test, y_pred)\n",
    "ax= plt.subplot()\n",
    "sns.heatmap(cm, annot=True, ax = ax)\n",
    "\n",
    "# labels, title and ticks\n",
    "ax.set_xlabel('Predicted labels')\n",
    "ax.set_ylabel('True labels')\n",
    "ax.set_title('Confusion Matrix')\n",
    "ax.xaxis.set_ticklabels(['case', 'healthy']); ax.yaxis.set_ticklabels(['case', 'healthy'])\n",
    "\n",
    "plt.savefig(\"Outputs_5year/SVM_sigmoid_tune_cm.pdf\")\n",
    "plt.show()\n",
    "\n",
    "results = get_results(y_test, y_pred, results, 'SVM_sigmoid_tune')\n"
   ]
  },
  {
   "cell_type": "code",
   "execution_count": null,
   "metadata": {},
   "outputs": [],
   "source": [
    "from sklearn.metrics import plot_roc_curve\n",
    "y_test2 = y_test.map({'healthy':0, 'case':1})\n",
    "y_pred = clf_svm_sigmoid.predict_proba(X_test)[:,1]\n",
    "\n",
    "plot_roc_curve(clf_svm_sigmoid,X_test,y_test)\n",
    "plt.savefig(\"Outputs_5year/SVM_sigmoid_tune_ROC.pdf\")\n",
    "\n",
    "plt.show()"
   ]
  },
  {
   "cell_type": "code",
   "execution_count": null,
   "metadata": {},
   "outputs": [],
   "source": [
    "print(results)\n",
    "results.to_csv('Outputs_5year/results.csv')"
   ]
  },
  {
   "cell_type": "code",
   "execution_count": 35,
   "metadata": {},
   "outputs": [
    {
     "data": {
      "text/plain": [
       "[0.0,\n",
       " 0.1,\n",
       " 0.2,\n",
       " 0.30000000000000004,\n",
       " 0.4,\n",
       " 0.5,\n",
       " 0.6000000000000001,\n",
       " 0.7000000000000001,\n",
       " 0.8,\n",
       " 0.9]"
      ]
     },
     "execution_count": 35,
     "metadata": {},
     "output_type": "execute_result"
    }
   ],
   "source": [
    "list(np.arange(0.0, 1.0, 0.1))"
   ]
  },
  {
   "cell_type": "code",
   "execution_count": 50,
   "metadata": {},
   "outputs": [],
   "source": [
    "param_grid = {'coef0': [0.1,0.2,0.3], \n",
    "   'gamma': list(np.arange(0.0, 1.0, 0.1)), \n",
    "   'kernel': ['sigmoid']}"
   ]
  },
  {
   "cell_type": "code",
   "execution_count": 51,
   "metadata": {},
   "outputs": [
    {
     "data": {
      "text/plain": [
       "{'coef0': [0.1, 0.2, 0.3],\n",
       " 'gamma': [0.0,\n",
       "  0.1,\n",
       "  0.2,\n",
       "  0.30000000000000004,\n",
       "  0.4,\n",
       "  0.5,\n",
       "  0.6000000000000001,\n",
       "  0.7000000000000001,\n",
       "  0.8,\n",
       "  0.9],\n",
       " 'kernel': ['sigmoid']}"
      ]
     },
     "execution_count": 51,
     "metadata": {},
     "output_type": "execute_result"
    }
   ],
   "source": [
    "param_grid"
   ]
  },
  {
   "cell_type": "code",
   "execution_count": null,
   "metadata": {},
   "outputs": [],
   "source": []
  }
 ],
 "metadata": {
  "kernelspec": {
   "display_name": "Python 3",
   "language": "python",
   "name": "python3"
  },
  "language_info": {
   "codemirror_mode": {
    "name": "ipython",
    "version": 3
   },
   "file_extension": ".py",
   "mimetype": "text/x-python",
   "name": "python",
   "nbconvert_exporter": "python",
   "pygments_lexer": "ipython3",
   "version": "3.6.8"
  }
 },
 "nbformat": 4,
 "nbformat_minor": 2
}
