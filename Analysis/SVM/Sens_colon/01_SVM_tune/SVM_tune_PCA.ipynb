{
 "cells": [
  {
   "cell_type": "code",
   "execution_count": 1,
   "metadata": {},
   "outputs": [],
   "source": [
    "### loading packages\n",
    "\n",
    "import pandas as pd\n",
    "import numpy as np\n",
    "import matplotlib.pyplot as plt\n",
    "import seaborn as sns\n",
    "import sklearn\n",
    "\n",
    "from sklearn import tree\n",
    "from sklearn.tree import DecisionTreeClassifier\n",
    "from sklearn.model_selection import train_test_split\n",
    "from sklearn.metrics import confusion_matrix\n",
    "from sklearn.tree import export_graphviz\n",
    "\n",
    "from sklearn.model_selection import train_test_split\n",
    "from sklearn.model_selection import GridSearchCV\n",
    "\n",
    "from sklearn.metrics import accuracy_score\n",
    "from sklearn.metrics import f1_score\n",
    "from sklearn.metrics import precision_score\n",
    "from sklearn.metrics import recall_score\n",
    "from sklearn.metrics import make_scorer\n",
    "from sklearn.metrics import plot_confusion_matrix\n",
    "from sklearn import metrics\n",
    "\n",
    "from sklearn.pipeline import make_pipeline\n",
    "from sklearn.preprocessing import StandardScaler\n",
    "from sklearn import svm\n",
    "from mlxtend.plotting import plot_decision_regions\n",
    "\n",
    "from sklearn.metrics import mean_squared_error\n",
    "from sklearn.metrics import mean_absolute_error\n",
    "\n"
   ]
  },
  {
   "cell_type": "code",
   "execution_count": 2,
   "metadata": {},
   "outputs": [
    {
     "data": {
      "text/plain": [
       "Series([], dtype: int64)"
      ]
     },
     "execution_count": 2,
     "metadata": {},
     "output_type": "execute_result"
    }
   ],
   "source": [
    "# Load Data\n",
    "train = pd.read_csv('/rds/general/user/wq21/projects/hda_21-22/live/TDS/Group_2/TDS-Group-Project/Analysis/SVM/Sens_colon/pca_train_5_year.csv',low_memory=False)\n",
    "test = pd.read_csv('/rds/general/user/wq21/projects/hda_21-22/live/TDS/Group_2/TDS-Group-Project/Analysis/SVM/Sens_colon/pca_test_5_year.csv',low_memory=False)\n",
    "\n",
    "def get_results(truth, prediction, df, idx):\n",
    "    \n",
    "    y_test2 = truth.map({'healthy':0, 'case':1})\n",
    "    y_pred2 = pd.Series(prediction).map({'healthy':0, 'case':1})\n",
    "\n",
    "\n",
    "    acc = accuracy_score(y_test2, y_pred2)\n",
    "    f1 = f1_score(y_test2, y_pred2)\n",
    "    precision = precision_score(y_test2, y_pred2)\n",
    "    recall = recall_score(y_test2, y_pred2)\n",
    "\n",
    "    df.loc[idx,:] = [acc, f1, precision, recall]\n",
    "\n",
    "    return df\n",
    "\n",
    "results = pd.DataFrame(columns = ['accuracy','f1','precision','recall'])\n",
    "\n",
    "y_train = train['cc_status'] \n",
    "y_train = y_train.astype('category')\n",
    "y_train = y_train.map({0: 'healthy', 1: 'case'})\n",
    "y_test = test['cc_status'] \n",
    "y_test = y_test.astype('category')\n",
    "y_test = y_test.map({0: 'healthy', 1: 'case'})\n",
    "y_train.describe()\n",
    "\n",
    "X_train = train.iloc[:,2:]\n",
    "X_test = test.iloc[:,2:]\n",
    "X_train.isnull().sum()[X_train.isnull().sum()>0]\n"
   ]
  },
  {
   "cell_type": "code",
   "execution_count": 3,
   "metadata": {},
   "outputs": [
    {
     "name": "stdout",
     "output_type": "stream",
     "text": [
      "           accuracy        f1 precision    recall\n",
      "SVM_linear  0.54306  0.431274   0.37013  0.516616\n"
     ]
    },
    {
     "data": {
      "image/png": "[encoded data removed]",
      "text/plain": [
       "<Figure size 432x288 with 2 Axes>"
      ]
     },
     "metadata": {
      "needs_background": "light"
     },
     "output_type": "display_data"
    }
   ],
   "source": [
    "# Apply linear SVM\n",
    "\n",
    "## Using all data\n",
    "\n",
    "svm_class = svm.SVC(kernel = 'linear', class_weight= {'healthy': 1, 'case': 2},\n",
    "                    gamma='auto', random_state = 8,  probability = True)\n",
    "svm_class.fit(X_train, y_train)\n",
    "\n",
    "y_pred = svm_class.predict(X_test)\n",
    "\n",
    "labels = ['case', 'healthy']\n",
    "cm = confusion_matrix(y_test, y_pred, labels=labels)\n",
    "cm = confusion_matrix(y_test, y_pred)\n",
    "ax= plt.subplot()\n",
    "sns.heatmap(cm, annot=True, ax = ax)\n",
    "\n",
    "# labels, title and ticks\n",
    "ax.set_xlabel('Predicted labels')\n",
    "ax.set_ylabel('True labels')\n",
    "ax.set_title('Confusion Matrix')\n",
    "ax.xaxis.set_ticklabels(['case', 'healthy']); ax.yaxis.set_ticklabels(['case', 'healthy'])\n",
    "\n",
    "plt.savefig(\"Outputs_5year/SVM_linear_cm.pdf\")\n",
    "\n",
    "results = get_results(y_test, y_pred, results, 'SVM_linear')\n",
    "\n",
    "print(results)"
   ]
  },
  {
   "cell_type": "code",
   "execution_count": 4,
   "metadata": {},
   "outputs": [
    {
     "name": "stdout",
     "output_type": "stream",
     "text": [
      "{'C': 0.1, 'gamma': 0.001, 'kernel': 'rbf'}\n"
     ]
    }
   ],
   "source": [
    "# RBF kernal\n",
    "y_train2 = y_train.map({'healthy':0, 'case':1})\n",
    "\n",
    "num_features = np.size(X_train, axis=1)\n",
    "param_grid = {'C': [0.01, 0.1, 1,5,10,100], \n",
    "   'gamma': [3,2,1, 0.1, 0.01, 0.001], \n",
    "   'kernel': ['rbf']}\n",
    "## NOTE: We are includeing C=1 and gamma=1/(num_features * X_train_scaled.var())\n",
    "\n",
    "optimal_params = GridSearchCV(\n",
    "    svm.SVC(class_weight= {0: 1, 1: 2}), \n",
    "    param_grid,\n",
    "    cv=5,\n",
    "    scoring='roc_auc', \n",
    "    verbose=0,\n",
    "    n_jobs = 7\n",
    "    )\n",
    "\n",
    "optimal_params.fit(X_train, y_train2)\n",
    "print(optimal_params.best_params_)"
   ]
  },
  {
   "cell_type": "code",
   "execution_count": 5,
   "metadata": {},
   "outputs": [
    {
     "name": "stdout",
     "output_type": "stream",
     "text": [
      "{'C': 0.4, 'gamma': 0.001, 'kernel': 'rbf'}\n"
     ]
    }
   ],
   "source": [
    "# RBF fine tune\n",
    "y_train2 = y_train.map({'healthy':0, 'case':1})\n",
    "\n",
    "num_features = np.size(X_train, axis=1)\n",
    "param_grid = {'C': [0.01,0.02,0.04,0.08,0.1,0.2,0.4,0.8,1], \n",
    "   'gamma': list(np.arange(0.001, 0.01, 0.001)), \n",
    "   'kernel': ['rbf']}\n",
    "\n",
    "optimal_params = GridSearchCV(\n",
    "    svm.SVC(class_weight= {0: 1, 1: 2}), \n",
    "    param_grid,\n",
    "    cv=5,\n",
    "    scoring='roc_auc', \n",
    "    verbose=0,\n",
    "    n_jobs = 7\n",
    "    )\n",
    "\n",
    "optimal_params.fit(X_train, y_train2)\n",
    "print(optimal_params.best_params_)\n"
   ]
  },
  {
   "cell_type": "code",
   "execution_count": null,
   "metadata": {},
   "outputs": [],
   "source": []
  }
 ],
 "metadata": {
  "kernelspec": {
   "display_name": "Python 3",
   "language": "python",
   "name": "python3"
  },
  "language_info": {
   "codemirror_mode": {
    "name": "ipython",
    "version": 3
   },
   "file_extension": ".py",
   "mimetype": "text/x-python",
   "name": "python",
   "nbconvert_exporter": "python",
   "pygments_lexer": "ipython3",
   "version": "3.6.8"
  }
 },
 "nbformat": 4,
 "nbformat_minor": 2
}
